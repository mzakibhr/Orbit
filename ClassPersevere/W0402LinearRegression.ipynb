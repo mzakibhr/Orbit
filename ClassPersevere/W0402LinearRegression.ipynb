{
  "cells": [
    {
      "cell_type": "markdown",
      "metadata": {
        "id": "view-in-github",
        "colab_type": "text"
      },
      "source": [
        "<a href=\"https://colab.research.google.com/github/oektomo/ClassPersevere/blob/minggu4/W0402LinearRegression.ipynb\" target=\"_parent\"><img src=\"https://colab.research.google.com/assets/colab-badge.svg\" alt=\"Open In Colab\"/></a>"
      ]
    },
    {
      "cell_type": "code",
      "execution_count": 7,
      "id": "17585039",
      "metadata": {
        "id": "17585039"
      },
      "outputs": [],
      "source": [
        "# https://www.w3schools.com/python/python_ml_linear_regression.asp\n",
        "import matplotlib.pyplot as plt\n",
        "from scipy import stats\n",
        "\n",
        "x = [5,7,8,7,2,17,2,9,4,11,12,9,6]\n",
        "y = [99,86,87,88,111,86,103,87,94,78,77,85,86]\n"
      ]
    },
    {
      "cell_type": "code",
      "execution_count": null,
      "id": "df544e6b",
      "metadata": {
        "id": "df544e6b",
        "outputId": "61c02006-312c-4ad2-fa8f-1792261e50de"
      },
      "outputs": [
        {
          "data": {
            "image/png": "[encoded data removed]",
            "text/plain": [
              "<Figure size 432x288 with 1 Axes>"
            ]
          },
          "metadata": {
            "needs_background": "light"
          },
          "output_type": "display_data"
        }
      ],
      "source": [
        "\n",
        "plt.scatter(x, y)\n",
        "plt.show()"
      ]
    },
    {
      "cell_type": "code",
      "execution_count": null,
      "id": "a6a8981a",
      "metadata": {
        "id": "a6a8981a"
      },
      "outputs": [],
      "source": [
        "\n",
        "slope, intercept, r, p, std_err = stats.linregress(x, y)\n"
      ]
    },
    {
      "cell_type": "code",
      "execution_count": null,
      "id": "41e25dd8",
      "metadata": {
        "id": "41e25dd8",
        "outputId": "0d111c47-2d4b-4fa7-c2d2-9dcd62f07a81"
      },
      "outputs": [
        {
          "data": {
            "image/png": "[encoded data removed]",
            "text/plain": [
              "<Figure size 432x288 with 1 Axes>"
            ]
          },
          "metadata": {
            "needs_background": "light"
          },
          "output_type": "display_data"
        }
      ],
      "source": [
        "\n",
        "def myfunc(x):\n",
        "  return slope * x + intercept\n",
        "\n",
        "mymodel = list(map(myfunc, x))\n",
        "\n",
        "plt.scatter(x, y)\n",
        "#plt.plot(x, mymodel)\n",
        "plt.scatter(x, mymodel)\n",
        "plt.show()"
      ]
    },
    {
      "cell_type": "code",
      "execution_count": null,
      "id": "395ae262",
      "metadata": {
        "id": "395ae262",
        "outputId": "790145d2-7a60-49b1-f5b1-4f861a93f163"
      },
      "outputs": [
        {
          "data": {
            "image/png": "[encoded data removed]",
            "text/plain": [
              "<Figure size 432x288 with 1 Axes>"
            ]
          },
          "metadata": {
            "needs_background": "light"
          },
          "output_type": "display_data"
        }
      ],
      "source": [
        "\n",
        "plt.scatter(x, y)\n",
        "plt.plot(x, mymodel)\n",
        "#plt.scatter(x, mymodel)\n",
        "plt.show()"
      ]
    },
    {
      "cell_type": "code",
      "execution_count": null,
      "id": "a5f8364c",
      "metadata": {
        "id": "a5f8364c",
        "outputId": "61932519-9b03-450c-983d-ba35d058630f"
      },
      "outputs": [
        {
          "data": {
            "text/plain": [
              "82.09050772626932"
            ]
          },
          "execution_count": 7,
          "metadata": {},
          "output_type": "execute_result"
        }
      ],
      "source": [
        "myfunc(13)"
      ]
    },
    {
      "cell_type": "code",
      "execution_count": null,
      "id": "f45c5b26",
      "metadata": {
        "id": "f45c5b26",
        "outputId": "e1d577b3-6517-49c0-9343-4af632bb04a2"
      },
      "outputs": [
        {
          "name": "stdout",
          "output_type": "stream",
          "text": [
            "Collecting sklearn\n",
            "  Downloading sklearn-0.0.tar.gz (1.1 kB)\n",
            "  Preparing metadata (setup.py) ... \u001b[?25ldone\n",
            "\u001b[?25hCollecting scikit-learn\n",
            "  Downloading scikit_learn-1.0.2-cp38-cp38-manylinux_2_17_x86_64.manylinux2014_x86_64.whl (26.7 MB)\n",
            "\u001b[2K     \u001b[90m━━━━━━━━━━━━━━━━━━━━━━━━━━━━━━━━━━━━━━━━\u001b[0m \u001b[32m26.7/26.7 MB\u001b[0m \u001b[31m5.9 MB/s\u001b[0m eta \u001b[36m0:00:00\u001b[0m00:01\u001b[0m00:01\u001b[0m\n",
            "\u001b[?25hCollecting joblib>=0.11\n",
            "  Downloading joblib-1.1.0-py2.py3-none-any.whl (306 kB)\n",
            "\u001b[2K     \u001b[90m━━━━━━━━━━━━━━━━━━━━━━━━━━━━━━━━━━━━━━━\u001b[0m \u001b[32m307.0/307.0 KB\u001b[0m \u001b[31m9.6 MB/s\u001b[0m eta \u001b[36m0:00:00\u001b[0m\n",
            "\u001b[?25hRequirement already satisfied: numpy>=1.14.6 in /home/otm/notebook/jupyterenv/lib/python3.8/site-packages (from scikit-learn->sklearn) (1.22.2)\n",
            "Requirement already satisfied: scipy>=1.1.0 in /home/otm/notebook/jupyterenv/lib/python3.8/site-packages (from scikit-learn->sklearn) (1.8.0)\n",
            "Collecting threadpoolctl>=2.0.0\n",
            "  Downloading threadpoolctl-3.1.0-py3-none-any.whl (14 kB)\n",
            "Building wheels for collected packages: sklearn\n",
            "  Building wheel for sklearn (setup.py) ... \u001b[?25ldone\n",
            "\u001b[?25h  Created wheel for sklearn: filename=sklearn-0.0-py2.py3-none-any.whl size=1310 sha256=91a7b740c6fcdf9f37b939e7dbb3ae7ba70c2a0d554cf4c4d741f98773af4dcb\n",
            "  Stored in directory: /home/otm/.cache/pip/wheels/22/0b/40/fd3f795caaa1fb4c6cb738bc1f56100be1e57da95849bfc897\n",
            "Successfully built sklearn\n",
            "Installing collected packages: threadpoolctl, joblib, scikit-learn, sklearn\n",
            "Successfully installed joblib-1.1.0 scikit-learn-1.0.2 sklearn-0.0 threadpoolctl-3.1.0\n",
            "\u001b[33mWARNING: You are using pip version 22.0.3; however, version 22.0.4 is available.\n",
            "You should consider upgrading via the '/home/otm/notebook/jupyterenv/bin/python -m pip install --upgrade pip' command.\u001b[0m\u001b[33m\n",
            "\u001b[0m"
          ]
        }
      ],
      "source": [
        "!pip install sklearn"
      ]
    },
    {
      "cell_type": "code",
      "execution_count": 1,
      "id": "84390ede",
      "metadata": {
        "id": "84390ede"
      },
      "outputs": [],
      "source": [
        "# https://realpython.com/linear-regression-in-python/#problem-formulation\n",
        "import numpy as np\n",
        "from sklearn.linear_model import LinearRegression"
      ]
    },
    {
      "cell_type": "code",
      "execution_count": 8,
      "id": "48f2cb90",
      "metadata": {
        "id": "48f2cb90"
      },
      "outputs": [],
      "source": [
        "x = np.array([5, 15, 25, 35, 45, 55]).reshape((-1, 1))\n",
        "y = np.array([5, 20, 14, 32, 22, 38])"
      ]
    },
    {
      "cell_type": "code",
      "execution_count": 4,
      "id": "8d2f9305",
      "metadata": {
        "id": "8d2f9305"
      },
      "outputs": [],
      "source": [
        "model = LinearRegression()"
      ]
    },
    {
      "cell_type": "code",
      "execution_count": 5,
      "id": "1ba9eb02",
      "metadata": {
        "id": "1ba9eb02",
        "outputId": "850d6cb1-ece7-4cdc-9d21-e7f8c3b08b7e",
        "colab": {
          "base_uri": "https://localhost:8080/"
        }
      },
      "outputs": [
        {
          "output_type": "execute_result",
          "data": {
            "text/plain": [
              "LinearRegression()"
            ]
          },
          "metadata": {},
          "execution_count": 5
        }
      ],
      "source": [
        "model.fit(x, y)"
      ]
    },
    {
      "cell_type": "code",
      "execution_count": 10,
      "id": "aee37cfa",
      "metadata": {
        "id": "aee37cfa",
        "outputId": "034748e5-017f-4e71-c327-8ffd08b21afb",
        "colab": {
          "base_uri": "https://localhost:8080/",
          "height": 265
        }
      },
      "outputs": [
        {
          "output_type": "display_data",
          "data": {
            "text/plain": [
              "<Figure size 432x288 with 1 Axes>"
            ],
            "image/png": "[encoded data removed]"
          },
          "metadata": {
            "needs_background": "light"
          }
        }
      ],
      "source": [
        "#model = LinearRegression().fit(x, y)\n",
        "\n",
        "def myfunc2(x):\n",
        "  return model.coef_ * x + model.intercept_\n",
        "\n",
        "mymodel = list(map(myfunc2, x))\n",
        "\n",
        "plt.scatter(x, y)\n",
        "#plt.plot(x, mymodel)\n",
        "plt.scatter(x, mymodel)\n",
        "plt.show()"
      ]
    },
    {
      "cell_type": "code",
      "execution_count": null,
      "id": "ab28a194",
      "metadata": {
        "id": "ab28a194"
      },
      "outputs": [],
      "source": [
        ""
      ]
    }
  ],
  "metadata": {
    "kernelspec": {
      "display_name": "Python 3 (ipykernel)",
      "language": "python",
      "name": "python3"
    },
    "language_info": {
      "codemirror_mode": {
        "name": "ipython",
        "version": 3
      },
      "file_extension": ".py",
      "mimetype": "text/x-python",
      "name": "python",
      "nbconvert_exporter": "python",
      "pygments_lexer": "ipython3",
      "version": "3.8.10"
    },
    "colab": {
      "name": "W0402LinearRegression.ipynb",
      "provenance": [],
      "include_colab_link": true
    }
  },
  "nbformat": 4,
  "nbformat_minor": 5
}